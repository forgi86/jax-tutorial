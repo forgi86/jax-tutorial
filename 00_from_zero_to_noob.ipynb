{
 "cells": [
  {
   "cell_type": "code",
   "execution_count": 199,
   "metadata": {},
   "outputs": [],
   "source": [
    "from functools import partial\n",
    "import jax\n",
    "import jax.numpy as jnp\n",
    "import numpy as onp\n",
    "import matplotlib.pyplot as plt\n",
    "import jax.random as jr\n",
    "import jaxopt"
   ]
  },
  {
   "cell_type": "markdown",
   "metadata": {},
   "source": [
    "# JAX Tutorial: From Zero to Newbie\n",
    "\n",
    "This tutorial will guide you from zero JAX knowledge to a beginner level. It assumes only basic Python and some familiarity with NumPy and Matplotlib."
   ]
  },
  {
   "cell_type": "markdown",
   "metadata": {},
   "source": [
    "## The numpy API"
   ]
  },
  {
   "cell_type": "code",
   "execution_count": 200,
   "metadata": {},
   "outputs": [
    {
     "data": {
      "text/plain": [
       "Array([2., 3.], dtype=float32)"
      ]
     },
     "execution_count": 200,
     "metadata": {},
     "output_type": "execute_result"
    }
   ],
   "source": [
    "# jax.numpy (jnp for friends) is the best entry point for new jax users.\n",
    "# It is a lot like numpy.\n",
    "a = jnp.ones((2))\n",
    "b = jnp.array([1.0, 2.0])\n",
    "a + b"
   ]
  },
  {
   "cell_type": "code",
   "execution_count": 201,
   "metadata": {},
   "outputs": [
    {
     "data": {
      "text/plain": [
       "Array([ 0.9092974, -0.9589243], dtype=float32)"
      ]
     },
     "execution_count": 201,
     "metadata": {},
     "output_type": "execute_result"
    }
   ],
   "source": [
    "jnp.sin(a**2 + b**2) # really feels like numpy so far!"
   ]
  },
  {
   "cell_type": "code",
   "execution_count": 202,
   "metadata": {},
   "outputs": [
    {
     "data": {
      "text/plain": [
       "Array([ 0.6475965 , -0.08273995], dtype=float32)"
      ]
     },
     "execution_count": 202,
     "metadata": {},
     "output_type": "execute_result"
    }
   ],
   "source": [
    "# The jax interface for random number is slighlt different from numpy for reasons that will be clear later on.\n",
    "# let us stick with ordinary numpy (onp here) for now...\n",
    "c = onp.random.randn((2))\n",
    "# jax-numpy interoperability in action!\n",
    "a + c"
   ]
  },
  {
   "cell_type": "code",
   "execution_count": 203,
   "metadata": {},
   "outputs": [
    {
     "data": {
      "text/plain": [
       "Array([1., 0.], dtype=float32)"
      ]
     },
     "execution_count": 203,
     "metadata": {},
     "output_type": "execute_result"
    }
   ],
   "source": [
    "c[1] = 0  # ok, this is numpy\n",
    "# a[1] = 1 # throws an error!\n",
    "# jax arrays are immutable, and in-place operations are not allowed!\n",
    "a.at[1].set(0.0)"
   ]
  },
  {
   "cell_type": "markdown",
   "metadata": {},
   "source": [
    "## Automatic differentiation and optimization"
   ]
  },
  {
   "cell_type": "code",
   "execution_count": 204,
   "metadata": {},
   "outputs": [],
   "source": [
    "# A jax model can be as simple as a plain python function:\n",
    "def linear_model(params, x):\n",
    "    y = x * params[0] + params[1]\n",
    "    return y"
   ]
  },
  {
   "cell_type": "code",
   "execution_count": 205,
   "metadata": {},
   "outputs": [],
   "source": [
    "params_true = jnp.array([1.0, 2.0]) # true, unknown value\n",
    "params_init = onp.random.randn(2,) # initial guess (initialized with ordinary numpy)"
   ]
  },
  {
   "cell_type": "code",
   "execution_count": 206,
   "metadata": {},
   "outputs": [
    {
     "data": {
      "text/plain": [
       "[<matplotlib.lines.Line2D at 0x34100f910>]"
      ]
     },
     "execution_count": 206,
     "metadata": {},
     "output_type": "execute_result"
    },
    {
     "data": {
      "image/png": "[encoded data removed]",
      "text/plain": [
       "<Figure size 640x480 with 1 Axes>"
      ]
     },
     "metadata": {},
     "output_type": "display_data"
    }
   ],
   "source": [
    "# Let us define some fake data\n",
    "N = 100\n",
    "x = onp.linspace(-2, 2, 100)\n",
    "y = linear_model(params_true, x) + onp.random.randn(N) * 0.1\n",
    "plt.plot(x, y, \"*\")"
   ]
  },
  {
   "cell_type": "code",
   "execution_count": 207,
   "metadata": {},
   "outputs": [
    {
     "data": {
      "text/plain": [
       "Array(11.531501, dtype=float32)"
      ]
     },
     "execution_count": 207,
     "metadata": {},
     "output_type": "execute_result"
    }
   ],
   "source": [
    "# Let us define the loss as a differentiable function\n",
    "def loss_fn(p, y, x):\n",
    "    y_hat = linear_model(p, x)\n",
    "    loss = jnp.mean((y - y_hat) ** 2)\n",
    "    return loss\n",
    "\n",
    "\n",
    "loss_fn(params_init, y, x)"
   ]
  },
  {
   "cell_type": "code",
   "execution_count": 208,
   "metadata": {},
   "outputs": [
    {
     "data": {
      "text/plain": [
       "Array([-2.8130994, -6.3459196], dtype=float32)"
      ]
     },
     "execution_count": 208,
     "metadata": {},
     "output_type": "execute_result"
    }
   ],
   "source": [
    "# This computes the gradient of the loss!\n",
    "loss_grad_fn = jax.grad(loss_fn) # wrt first argument, p\n",
    "loss_grad_fn(params_init, y, x)"
   ]
  },
  {
   "cell_type": "code",
   "execution_count": 209,
   "metadata": {},
   "outputs": [],
   "source": [
    "params_opt = params_init"
   ]
  },
  {
   "cell_type": "code",
   "execution_count": 210,
   "metadata": {},
   "outputs": [
    {
     "data": {
      "text/plain": [
       "[<matplotlib.lines.Line2D at 0x33c8f3350>]"
      ]
     },
     "execution_count": 210,
     "metadata": {},
     "output_type": "execute_result"
    },
    {
     "data": {
      "image/png": "[encoded data removed]",
      "text/plain": [
       "<Figure size 640x480 with 1 Axes>"
      ]
     },
     "metadata": {},
     "output_type": "display_data"
    }
   ],
   "source": [
    "# We can wrap up a gradient-based optimization procedure!\n",
    "# No bells & wistles!\n",
    "lr = 1e-2\n",
    "for _ in range(200):\n",
    "    g = loss_grad_fn(params_opt, y, x)\n",
    "    params_opt = params_opt - lr * g\n",
    "\n",
    "plt.figure()\n",
    "plt.plot(x, y, \"k\")\n",
    "plt.plot(x, linear_model(params_opt, x), \"b\")"
   ]
  },
  {
   "cell_type": "code",
   "execution_count": 211,
   "metadata": {},
   "outputs": [
    {
     "data": {
      "text/plain": [
       "(Array([0.9923637, 1.9378282], dtype=float32), Array([1., 2.], dtype=float32))"
      ]
     },
     "execution_count": 211,
     "metadata": {},
     "output_type": "execute_result"
    }
   ],
   "source": [
    "params_opt, params_true  # almost there..."
   ]
  },
  {
   "cell_type": "markdown",
   "metadata": {},
   "source": [
    "Traditional second-order solvers are also available in external libraries such as ``jaxopt``!"
   ]
  },
  {
   "cell_type": "code",
   "execution_count": 212,
   "metadata": {},
   "outputs": [
    {
     "name": "stdout",
     "output_type": "stream",
     "text": [
      "INFO: jaxopt.ZoomLineSearch: Iter: 1 Minimum Decrease & Curvature Errors (stop. crit.): 10.52042293548584 Stepsize:1.0  Decrease Error:2.855818510055542  Curvature Error:10.52042293548584 \n",
      "INFO: jaxopt.ZoomLineSearch: Iter: 2 Minimum Decrease & Curvature Errors (stop. crit.): 0.0 Stepsize:0.47206827998161316  Decrease Error:0.0  Curvature Error:0.0 \n",
      "INFO: jaxopt.ZoomLineSearch: Iter: 1 Minimum Decrease & Curvature Errors (stop. crit.): 0.0 Stepsize:0.7081024050712585  Decrease Error:0.0  Curvature Error:0.0 \n",
      "INFO: jaxopt.ZoomLineSearch: Iter: 1 Minimum Decrease & Curvature Errors (stop. crit.): 0.0 Stepsize:1.0  Decrease Error:0.0  Curvature Error:0.0 \n"
     ]
    },
    {
     "data": {
      "text/plain": [
       "Array([0.99652046, 1.9936339 ], dtype=float32)"
      ]
     },
     "execution_count": 212,
     "metadata": {},
     "output_type": "execute_result"
    }
   ],
   "source": [
    "# BFGS\n",
    "solver_bfgs = jaxopt.BFGS(fun=partial(loss_fn, y=y, x=x))\n",
    "params_bfgs, state_bfgs = solver_bfgs.run(params_init)\n",
    "params_bfgs"
   ]
  },
  {
   "cell_type": "code",
   "execution_count": 213,
   "metadata": {},
   "outputs": [
    {
     "data": {
      "text/plain": [
       "Array([0.9965193, 1.9936298], dtype=float32)"
      ]
     },
     "execution_count": 213,
     "metadata": {},
     "output_type": "execute_result"
    }
   ],
   "source": [
    "# Levenberg-Marquardt\n",
    "def resid_fn(p, y, x):\n",
    "    y_hat = linear_model(p, x)\n",
    "    resid = y - y_hat\n",
    "    return resid\n",
    "\n",
    "\n",
    "solver_lm = jaxopt.LevenbergMarquardt(lambda p: resid_fn(p, y, x), maxiter=100)\n",
    "params_lm, state_lm = solver_lm.run(params_init)\n",
    "params_lm"
   ]
  },
  {
   "cell_type": "markdown",
   "metadata": {},
   "source": [
    "# Parallel execution with vmap"
   ]
  },
  {
   "cell_type": "markdown",
   "metadata": {},
   "source": [
    "Jax provides a powerful ``vmap`` operator to *vectorize* function execution"
   ]
  },
  {
   "cell_type": "code",
   "execution_count": 237,
   "metadata": {},
   "outputs": [
    {
     "data": {
      "text/plain": [
       "Array(True, dtype=bool)"
      ]
     },
     "execution_count": 237,
     "metadata": {},
     "output_type": "execute_result"
    }
   ],
   "source": [
    "# Let us build a model that acts on a single element.\n",
    "def linear_model(weight, input):\n",
    "    return weight @ input\n",
    "\n",
    "\n",
    "in_feat = 3\n",
    "out_feat = 10\n",
    "\n",
    "W = onp.random.randn(out_feat, in_feat)  # 10 outputs, 3 inputs\n",
    "x = onp.random.randn(in_feat)\n",
    "y = linear_model(W, x)\n",
    "\n",
    "# What if we have a vector of examples?\n",
    "batch_size = 32\n",
    "X = onp.random.randn(batch_size, in_feat)\n",
    "\n",
    "# In pytorch, we would end up re-writing the linear layer in a less straightforward fashion:\n",
    "Y = X @ W.T # :-(\n",
    "Y.shape\n",
    "\n",
    "# In jax, we would rather harness the power of vmap!\n",
    "Y_vmap = jax.vmap(linear_model, in_axes=(None, 0))(W, X) # :-)\n",
    "jnp.allclose(Y, Y_vmap, rtol=1e-4) # equivalent up to some numerical difference"
   ]
  },
  {
   "cell_type": "code",
   "execution_count": 238,
   "metadata": {},
   "outputs": [],
   "source": [
    "# Here (like above), we vectorize on the second argument only (the data!)\n",
    "# This makes sense when we apply the same model to different data batches\n",
    "batched_linear_model = jax.vmap(linear_model, in_axes=(None, 0))\n",
    "Y_vmap = batched_linear_model(W, X)"
   ]
  },
  {
   "cell_type": "code",
   "execution_count": 240,
   "metadata": {},
   "outputs": [
    {
     "data": {
      "text/plain": [
       "(32, 10)"
      ]
     },
     "execution_count": 240,
     "metadata": {},
     "output_type": "execute_result"
    }
   ],
   "source": [
    "# This is the converse: different models (an ensemble?) acting on the same data!\n",
    "W_many = onp.random.randn(batch_size, out_feat, in_feat)\n",
    "many_linear_models_same_data = jax.vmap(linear_model, in_axes=(0, None))\n",
    "Y_many = many_linear_models_same_data(W_many, x)\n",
    "Y_many.shape"
   ]
  },
  {
   "cell_type": "code",
   "execution_count": 241,
   "metadata": {},
   "outputs": [],
   "source": [
    "# By default, we vectorize on all arguments. We simulate several models over several datasets in parallel!\n",
    "many_linear_models = jax.vmap(linear_model)\n",
    "Y_many = many_linear_models(W_many, X)"
   ]
  },
  {
   "cell_type": "markdown",
   "metadata": {},
   "source": [
    "# Jax data structure: PyTrees "
   ]
  },
  {
   "cell_type": "markdown",
   "metadata": {},
   "source": [
    "In Jax, function arguments can be (nested) collection objects generically referred to as pytrees this simplifies definition of structured models such as neural networks from scratch\n",
    "\n",
    "Example: MLP with one hidden layer, parameters in a nested python dictionary"
   ]
  },
  {
   "cell_type": "code",
   "execution_count": 218,
   "metadata": {},
   "outputs": [],
   "source": [
    "# Let us implement a MLP from scratch!\n",
    "nn_sizes = [3, 16, 10]  # 3 inputs, 16 hidden layers, 10 outputs\n",
    "\n",
    "params_nn = {\n",
    "    \"layer0\": {\n",
    "        \"W\": onp.random.randn(nn_sizes[1], nn_sizes[0]),\n",
    "        \"b\": onp.random.randn(nn_sizes[1]),\n",
    "    },\n",
    "    \"layer1\": {\n",
    "        \"W\": onp.random.randn(nn_sizes[2], nn_sizes[1]),\n",
    "        \"b\": onp.random.randn(nn_sizes[2]),\n",
    "    },\n",
    "}\n",
    "\n",
    "def nn_model(p, input):\n",
    "    z = jax.nn.sigmoid(p[\"layer0\"][\"W\"] @ input + p[\"layer0\"][\"b\"])\n",
    "    out = p[\"layer1\"][\"W\"] @ z + p[\"layer1\"][\"b\"]\n",
    "    return out"
   ]
  },
  {
   "cell_type": "code",
   "execution_count": 219,
   "metadata": {},
   "outputs": [
    {
     "data": {
      "text/plain": [
       "(10,)"
      ]
     },
     "execution_count": 219,
     "metadata": {},
     "output_type": "execute_result"
    }
   ],
   "source": [
    "x = onp.random.randn(\n",
    "    nn_sizes[0],\n",
    ")\n",
    "y_nn = nn_model(params_nn, x)\n",
    "y_nn.shape"
   ]
  },
  {
   "cell_type": "code",
   "execution_count": 220,
   "metadata": {},
   "outputs": [
    {
     "data": {
      "text/plain": [
       "(32, 10)"
      ]
     },
     "execution_count": 220,
     "metadata": {},
     "output_type": "execute_result"
    }
   ],
   "source": [
    "# batched execution of the MLP with vmap\n",
    "X = onp.random.randn(batch_size, nn_sizes[0])\n",
    "Y = jax.vmap(nn_model, in_axes=(None, 0))(params_nn, X)\n",
    "Y.shape"
   ]
  },
  {
   "cell_type": "code",
   "execution_count": 221,
   "metadata": {},
   "outputs": [
    {
     "data": {
      "text/plain": [
       "Array(2.8984382, dtype=float32)"
      ]
     },
     "execution_count": 221,
     "metadata": {},
     "output_type": "execute_result"
    }
   ],
   "source": [
    "# batched loss computation\n",
    "def loss_fn(p, input, target):\n",
    "    predicted = jax.vmap(nn_model, in_axes=(None, 0))(p, input)\n",
    "    error = target - predicted\n",
    "    return jnp.mean(error**2)\n",
    "\n",
    "Y_true = onp.random.randn(batch_size, nn_sizes[-1]) # some fake data\n",
    "loss_fn(params_nn, X, Y_true)"
   ]
  },
  {
   "cell_type": "markdown",
   "metadata": {},
   "source": [
    "Jax has built-in tools for PyTree manipulation"
   ]
  },
  {
   "cell_type": "code",
   "execution_count": 222,
   "metadata": {},
   "outputs": [],
   "source": [
    "params_sq = jax.tree.map(lambda x : x**2, params_nn) # all parameters squared (unary op)"
   ]
  },
  {
   "cell_type": "code",
   "execution_count": 223,
   "metadata": {},
   "outputs": [],
   "source": [
    "params_sum = jax.tree.map(lambda x, y: x + y, params_nn, params_sq) # sum of two pytrees (binary op)"
   ]
  },
  {
   "cell_type": "code",
   "execution_count": 224,
   "metadata": {},
   "outputs": [],
   "source": [
    "#params_flat, unflatten_pars = jax.flatten_util.ravel_pytree(params_nn) # flat vector, unflatten function"
   ]
  },
  {
   "cell_type": "markdown",
   "metadata": {},
   "source": [
    "# Jax as a jit-compiled language"
   ]
  },
  {
   "cell_type": "markdown",
   "metadata": {},
   "source": [
    "Jax functions can be jit-compiled for much faster execution. Common use case: compile gradient computations!"
   ]
  },
  {
   "cell_type": "code",
   "execution_count": 225,
   "metadata": {},
   "outputs": [
    {
     "name": "stdout",
     "output_type": "stream",
     "text": [
      "2.13 ms ± 88.9 μs per loop (mean ± std. dev. of 7 runs, 100 loops each)\n"
     ]
    }
   ],
   "source": [
    "%%timeit -n 100\n",
    "loss, grad = jax.value_and_grad(loss_fn)(params_nn, X, Y)"
   ]
  },
  {
   "cell_type": "code",
   "execution_count": 226,
   "metadata": {},
   "outputs": [],
   "source": [
    "grad_fn_jit = jax.jit(jax.value_and_grad(loss_fn))"
   ]
  },
  {
   "cell_type": "code",
   "execution_count": 227,
   "metadata": {},
   "outputs": [
    {
     "name": "stdout",
     "output_type": "stream",
     "text": [
      "48.4 μs ± 9.12 μs per loop (mean ± std. dev. of 7 runs, 1,000 loops each)\n"
     ]
    }
   ],
   "source": [
    "%%timeit -n 1000\n",
    "loss, grad = grad_fn_jit(params_nn, X, Y)"
   ]
  },
  {
   "cell_type": "markdown",
   "metadata": {},
   "source": [
    "# Random numbers in Jax"
   ]
  },
  {
   "cell_type": "markdown",
   "metadata": {},
   "source": [
    "Native Jax random number generators always require a key to be passed explicitly"
   ]
  },
  {
   "cell_type": "code",
   "execution_count": 228,
   "metadata": {},
   "outputs": [],
   "source": [
    "key = jr.key(1234)"
   ]
  },
  {
   "cell_type": "code",
   "execution_count": 229,
   "metadata": {},
   "outputs": [
    {
     "data": {
      "text/plain": [
       "Array(-0.54019827, dtype=float32)"
      ]
     },
     "execution_count": 229,
     "metadata": {},
     "output_type": "execute_result"
    }
   ],
   "source": [
    "jr.normal(key)"
   ]
  },
  {
   "cell_type": "code",
   "execution_count": 230,
   "metadata": {},
   "outputs": [
    {
     "data": {
      "text/plain": [
       "Array([ 0.43957582, -0.26563603], dtype=float32)"
      ]
     },
     "execution_count": 230,
     "metadata": {},
     "output_type": "execute_result"
    }
   ],
   "source": [
    "jr.normal(key, shape=(2,)) # same key=same result!"
   ]
  },
  {
   "cell_type": "markdown",
   "metadata": {},
   "source": [
    "The Jax user is responsible of splitting the keys to generate different random numbers"
   ]
  },
  {
   "cell_type": "code",
   "execution_count": 231,
   "metadata": {},
   "outputs": [
    {
     "data": {
      "text/plain": [
       "(Array([-1.2972969, -0.9846392], dtype=float32),\n",
       " Array([-1.7366334, -1.7102827], dtype=float32))"
      ]
     },
     "execution_count": 231,
     "metadata": {},
     "output_type": "execute_result"
    }
   ],
   "source": [
    "key, subkey = jr.split(key, 2)\n",
    "jr.normal(key, shape=(2,)), jr.normal(subkey, shape=(2,))"
   ]
  },
  {
   "cell_type": "markdown",
   "metadata": {},
   "source": [
    "This is the price to pay for having a *pure function* interface!"
   ]
  },
  {
   "cell_type": "code",
   "execution_count": 232,
   "metadata": {},
   "outputs": [
    {
     "data": {
      "text/plain": [
       "(array([-0.19275357,  0.86700287]), array([-0.11334645, -0.54615985]))"
      ]
     },
     "execution_count": 232,
     "metadata": {},
     "output_type": "execute_result"
    }
   ],
   "source": [
    "# same arguments, different results. That's not a pure function.\n",
    "onp.random.randn(2), onp.random.randn(2)"
   ]
  },
  {
   "cell_type": "code",
   "execution_count": 233,
   "metadata": {},
   "outputs": [
    {
     "data": {
      "text/plain": [
       "(Array([-1.2972969, -0.9846392], dtype=float32),\n",
       " Array([-1.2972969, -0.9846392], dtype=float32))"
      ]
     },
     "execution_count": 233,
     "metadata": {},
     "output_type": "execute_result"
    }
   ],
   "source": [
    "# same arguments, same results. This is a pure function!\n",
    "jr.normal(key, shape=(2,)), jr.normal(key, shape=(2,))"
   ]
  },
  {
   "cell_type": "markdown",
   "metadata": {},
   "source": [
    "# Higher-level interfaces: flax.linen"
   ]
  },
  {
   "cell_type": "markdown",
   "metadata": {},
   "source": [
    "flax.linen offers a thin neural nerwork interface for jax"
   ]
  },
  {
   "cell_type": "code",
   "execution_count": 234,
   "metadata": {},
   "outputs": [],
   "source": [
    "from flax import linen as nn"
   ]
  },
  {
   "cell_type": "code",
   "execution_count": 235,
   "metadata": {},
   "outputs": [
    {
     "data": {
      "text/plain": [
       "{'params': {'lin1': {'kernel': Array([[ 0.34915778,  0.09149738,  0.08031028, -0.1144528 ,  0.317296  ,\n",
       "            0.6505861 , -0.26838434,  0.16204348, -0.20969899, -0.18522389,\n",
       "           -0.06305052, -0.07610493,  0.01470689, -0.19302115, -0.06943785,\n",
       "           -0.15517578],\n",
       "          [ 0.2830291 , -0.09197768, -0.32951352,  0.4423861 ,  0.12644179,\n",
       "            0.05594965,  0.36738932, -0.3758351 , -0.03918812, -0.1170873 ,\n",
       "           -0.55121595,  0.01673536, -0.11866205, -0.03521184,  0.02144702,\n",
       "           -0.18217386],\n",
       "          [ 0.36236632,  0.01984214, -0.3064592 , -0.05859586,  0.112603  ,\n",
       "           -0.33131287,  0.13602741, -0.45689803, -0.43613708, -0.13689123,\n",
       "           -0.3734352 , -0.0782427 , -0.12966101, -0.14389671,  0.16927539,\n",
       "           -0.08479758],\n",
       "          [ 0.3925566 ,  0.45545122,  0.05914405, -0.39626774,  0.5778542 ,\n",
       "            0.31908202,  0.11089025,  0.17845038, -0.16434291, -0.4232039 ,\n",
       "            0.09702438, -0.660742  , -0.04026402,  0.07749574,  0.5235961 ,\n",
       "           -0.24353501],\n",
       "          [ 0.5236613 , -0.2810182 ,  0.06675121,  0.31452966, -0.40192384,\n",
       "            0.58475435,  0.59264517,  0.15933064, -0.08889962, -0.19651829,\n",
       "            0.10400931,  0.38083768,  0.32068825,  0.41928187, -0.15730418,\n",
       "           -0.5450155 ],\n",
       "          [-0.36805624,  0.08620835, -0.13913509, -0.18768233, -0.2678869 ,\n",
       "           -0.17189594, -0.32542795, -0.1327901 ,  0.29270595,  0.17724982,\n",
       "            0.2347688 , -0.02691611,  0.2882876 , -0.03636914,  0.61583936,\n",
       "            0.28400573],\n",
       "          [ 0.14974053,  0.2400995 ,  0.31162918,  0.4697736 ,  0.2506976 ,\n",
       "            0.12077604,  0.27727485, -0.04961558,  0.29205582,  0.280934  ,\n",
       "           -0.22875051, -0.1505248 ,  0.5685027 , -0.10340334,  0.26092553,\n",
       "           -0.22089152],\n",
       "          [ 0.03408898, -0.06685627,  0.2961681 , -0.15264975,  0.01397902,\n",
       "            0.08377843, -0.11646373, -0.0621264 , -0.23987155, -0.08978128,\n",
       "           -0.07364123, -0.6361603 , -0.02231167, -0.09389867, -0.0802924 ,\n",
       "            0.00603157],\n",
       "          [-0.05096973, -0.09219118, -0.2021528 , -0.34404442, -0.02963259,\n",
       "           -0.2508309 ,  0.3851087 , -0.02311439, -0.58689296, -0.2257553 ,\n",
       "           -0.21958214,  0.07820626,  0.09146964, -0.00179019, -0.08647989,\n",
       "            0.22172841],\n",
       "          [ 0.08536838, -0.13346568,  0.37014696, -0.39311603, -0.56228334,\n",
       "            0.12420571,  0.13119395, -0.10496885, -0.10528625, -0.34355816,\n",
       "           -0.10090341,  0.01451438,  0.364526  , -0.03423165,  0.16820034,\n",
       "            0.71018857]], dtype=float32),\n",
       "   'bias': Array([0., 0., 0., 0., 0., 0., 0., 0., 0., 0., 0., 0., 0., 0., 0., 0.],      dtype=float32)},\n",
       "  'lin2': {'kernel': Array([[ 0.0667971 , -0.2966307 , -0.06785823,  0.01526509, -0.42605847],\n",
       "          [ 0.00098604, -0.0743475 , -0.23169777, -0.02908902, -0.12715055],\n",
       "          [-0.16465099,  0.16311905,  0.05636073, -0.19616707, -0.08018281],\n",
       "          [ 0.08898022, -0.01175273,  0.00820957, -0.17996685, -0.01662713],\n",
       "          [ 0.4201517 , -0.17115179,  0.4596504 , -0.02320905, -0.09653066],\n",
       "          [-0.42532584,  0.0785038 , -0.5140111 ,  0.04449303, -0.28705674],\n",
       "          [ 0.520412  ,  0.08344317,  0.12731749,  0.06973561,  0.4961466 ],\n",
       "          [-0.24373724, -0.39154208, -0.02419429,  0.18066375,  0.29311997],\n",
       "          [ 0.16677007,  0.44264567,  0.2564086 , -0.30415723,  0.05080314],\n",
       "          [ 0.22748199, -0.14540163, -0.24865347,  0.34359366,  0.19457684],\n",
       "          [-0.41914457, -0.30315122, -0.47407478,  0.56510645, -0.21914105],\n",
       "          [ 0.01214396, -0.2323372 , -0.1907641 , -0.1456813 , -0.25440845],\n",
       "          [-0.24436355,  0.23201776,  0.1018376 , -0.22854577,  0.23519596],\n",
       "          [-0.13063529,  0.25226343, -0.2610974 , -0.23143464,  0.0336838 ],\n",
       "          [ 0.08174042, -0.53185546,  0.00612666,  0.31333894, -0.45826608],\n",
       "          [ 0.32916754,  0.36317185,  0.04907648,  0.5286623 , -0.19266132]],      dtype=float32),\n",
       "   'bias': Array([0., 0., 0., 0., 0.], dtype=float32)}}}"
      ]
     },
     "execution_count": 235,
     "metadata": {},
     "output_type": "execute_result"
    }
   ],
   "source": [
    "in_size = 10\n",
    "out_size = 5\n",
    "hidden = 16\n",
    "\n",
    "class MLP(nn.Module):\n",
    "    hidden: int\n",
    "    out_size: int\n",
    "\n",
    "    def setup(self):\n",
    "        self.lin1 = nn.Dense(self.hidden)\n",
    "        self.lin2 = nn.Dense(self.out_size)\n",
    "\n",
    "    def __call__(self, input):\n",
    "        x = nn.relu(self.lin1(input))\n",
    "        x = self.lin2(x)\n",
    "        return x\n",
    "\n",
    "enc = MLP(hidden=hidden, out_size=out_size)\n",
    "key, subkey = jr.split(key, 2)\n",
    "\n",
    "# params are not part of the module!\n",
    "params = enc.init(subkey, jnp.ones((in_size)))\n",
    "params"
   ]
  },
  {
   "cell_type": "code",
   "execution_count": 236,
   "metadata": {},
   "outputs": [
    {
     "data": {
      "text/plain": [
       "Array([ 0.09367611, -0.74441713, -0.39785287,  0.24151626, -0.82042664],      dtype=float32)"
      ]
     },
     "execution_count": 236,
     "metadata": {},
     "output_type": "execute_result"
    }
   ],
   "source": [
    "# to use the model, we pass the parameters as first argument!\n",
    "enc.apply(params, jnp.ones(in_size))"
   ]
  }
 ],
 "metadata": {
  "kernelspec": {
   "display_name": "dev",
   "language": "python",
   "name": "python3"
  },
  "language_info": {
   "codemirror_mode": {
    "name": "ipython",
    "version": 3
   },
   "file_extension": ".py",
   "mimetype": "text/x-python",
   "name": "python",
   "nbconvert_exporter": "python",
   "pygments_lexer": "ipython3",
   "version": "3.11.9"
  }
 },
 "nbformat": 4,
 "nbformat_minor": 2
}
