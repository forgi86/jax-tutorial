{
 "cells": [
  {
   "cell_type": "code",
   "execution_count": 1,
   "metadata": {},
   "outputs": [],
   "source": [
    "from functools import partial\n",
    "import jax\n",
    "import jax.numpy as jnp\n",
    "import numpy as onp\n",
    "import matplotlib.pyplot as plt\n",
    "import jax.random as jr\n",
    "import jaxopt"
   ]
  },
  {
   "cell_type": "markdown",
   "metadata": {},
   "source": [
    "# JAX Tutorial: From Zero to Newbie\n",
    "\n",
    "This tutorial will guide you from zero JAX knowledge to a beginner level. It assumes only basic Python and some familiarity with NumPy and Matplotlib."
   ]
  },
  {
   "cell_type": "markdown",
   "metadata": {},
   "source": [
    "## The numpy API"
   ]
  },
  {
   "cell_type": "code",
   "execution_count": 2,
   "metadata": {},
   "outputs": [
    {
     "data": {
      "text/plain": [
       "Array([2., 3.], dtype=float32)"
      ]
     },
     "execution_count": 2,
     "metadata": {},
     "output_type": "execute_result"
    }
   ],
   "source": [
    "# jax.numpy (jnp for friends) is the best entry point for new jax users.\n",
    "# It is a lot like numpy.\n",
    "a = jnp.ones((2))\n",
    "b = jnp.array([1.0, 2.0])\n",
    "a + b"
   ]
  },
  {
   "cell_type": "code",
   "execution_count": 3,
   "metadata": {},
   "outputs": [
    {
     "data": {
      "text/plain": [
       "Array([ 0.9092974, -0.9589243], dtype=float32)"
      ]
     },
     "execution_count": 3,
     "metadata": {},
     "output_type": "execute_result"
    }
   ],
   "source": [
    "jnp.sin(a**2 + b**2) # really feels like numpy so far!"
   ]
  },
  {
   "cell_type": "code",
   "execution_count": 4,
   "metadata": {},
   "outputs": [
    {
     "data": {
      "text/plain": [
       "Array([2.0010242 , 0.78799963], dtype=float32)"
      ]
     },
     "execution_count": 4,
     "metadata": {},
     "output_type": "execute_result"
    }
   ],
   "source": [
    "# The jax interface for random number is slighlt different from numpy for reasons that will be clear later on.\n",
    "# let us stick with ordinary numpy (onp here) for now...\n",
    "c = onp.random.randn((2))\n",
    "# jax-numpy interoperability in action!\n",
    "a + c"
   ]
  },
  {
   "cell_type": "code",
   "execution_count": 5,
   "metadata": {},
   "outputs": [
    {
     "data": {
      "text/plain": [
       "Array([1., 0.], dtype=float32)"
      ]
     },
     "execution_count": 5,
     "metadata": {},
     "output_type": "execute_result"
    }
   ],
   "source": [
    "c[1] = 0  # ok, this is numpy\n",
    "# a[1] = 1 # throws an error!\n",
    "# jax arrays are immutable, and in-place operations are not allowed!\n",
    "a.at[1].set(0.0)"
   ]
  },
  {
   "cell_type": "markdown",
   "metadata": {},
   "source": [
    "## Automatic differentiation and optimization"
   ]
  },
  {
   "cell_type": "code",
   "execution_count": 6,
   "metadata": {},
   "outputs": [],
   "source": [
    "# A jax model can be as simple as a plain python function:\n",
    "def linear_model(params, x):\n",
    "    y = x * params[0] + params[1]\n",
    "    return y"
   ]
  },
  {
   "cell_type": "code",
   "execution_count": 7,
   "metadata": {},
   "outputs": [],
   "source": [
    "params_true = jnp.array([1.0, 2.0]) # true, unknown value\n",
    "params_init = onp.random.randn(2,) # initial guess (initialized with ordinary numpy)"
   ]
  },
  {
   "cell_type": "code",
   "execution_count": 8,
   "metadata": {},
   "outputs": [
    {
     "data": {
      "text/plain": [
       "[<matplotlib.lines.Line2D at 0x127f9be00>]"
      ]
     },
     "execution_count": 8,
     "metadata": {},
     "output_type": "execute_result"
    },
    {
     "data": {
      "image/png": "[encoded data removed]",
      "text/plain": [
       "<Figure size 640x480 with 1 Axes>"
      ]
     },
     "metadata": {},
     "output_type": "display_data"
    }
   ],
   "source": [
    "# Let us define some fake data\n",
    "N = 100\n",
    "x = onp.linspace(-2, 2, 100)\n",
    "y = linear_model(params_true, x) + onp.random.randn(N) * 0.1\n",
    "plt.plot(x, y, \"*\")"
   ]
  },
  {
   "cell_type": "code",
   "execution_count": 9,
   "metadata": {},
   "outputs": [
    {
     "data": {
      "text/plain": [
       "Array(9.102814, dtype=float32)"
      ]
     },
     "execution_count": 9,
     "metadata": {},
     "output_type": "execute_result"
    }
   ],
   "source": [
    "# Let us define the loss as a differentiable function\n",
    "def loss_fn(p, y, x):\n",
    "    y_hat = linear_model(p, x)\n",
    "    loss = jnp.mean((y - y_hat) ** 2)\n",
    "    return loss\n",
    "\n",
    "\n",
    "loss_fn(params_init, y, x)"
   ]
  },
  {
   "cell_type": "code",
   "execution_count": 10,
   "metadata": {},
   "outputs": [
    {
     "data": {
      "text/plain": [
       "Array([-5.5923715, -3.6583776], dtype=float32)"
      ]
     },
     "execution_count": 10,
     "metadata": {},
     "output_type": "execute_result"
    }
   ],
   "source": [
    "# This computes the gradient of the loss!\n",
    "loss_grad_fn = jax.grad(loss_fn) # wrt first argument, p\n",
    "loss_grad_fn(params_init, y, x)"
   ]
  },
  {
   "cell_type": "code",
   "execution_count": 11,
   "metadata": {},
   "outputs": [],
   "source": [
    "params_opt = params_init"
   ]
  },
  {
   "cell_type": "code",
   "execution_count": 12,
   "metadata": {},
   "outputs": [
    {
     "data": {
      "text/plain": [
       "[<matplotlib.lines.Line2D at 0x130ab0da0>]"
      ]
     },
     "execution_count": 12,
     "metadata": {},
     "output_type": "execute_result"
    },
    {
     "data": {
      "image/png": "[encoded data removed]",
      "text/plain": [
       "<Figure size 640x480 with 1 Axes>"
      ]
     },
     "metadata": {},
     "output_type": "display_data"
    }
   ],
   "source": [
    "# We can wrap up a gradient-based optimization procedure!\n",
    "# No bells & wistles!\n",
    "lr = 1e-2\n",
    "for _ in range(200):\n",
    "    g = loss_grad_fn(params_opt, y, x)\n",
    "    params_opt = params_opt - lr * g\n",
    "\n",
    "plt.figure()\n",
    "plt.plot(x, y, \"k\")\n",
    "plt.plot(x, linear_model(params_opt, x), \"b\")"
   ]
  },
  {
   "cell_type": "code",
   "execution_count": 13,
   "metadata": {},
   "outputs": [
    {
     "data": {
      "text/plain": [
       "(Array([0.97719723, 1.9566609 ], dtype=float32),\n",
       " Array([1., 2.], dtype=float32))"
      ]
     },
     "execution_count": 13,
     "metadata": {},
     "output_type": "execute_result"
    }
   ],
   "source": [
    "params_opt, params_true  # almost there..."
   ]
  },
  {
   "cell_type": "markdown",
   "metadata": {},
   "source": [
    "Traditional second-order solvers are also available in external libraries such as ``jaxopt``!"
   ]
  },
  {
   "cell_type": "code",
   "execution_count": 14,
   "metadata": {},
   "outputs": [
    {
     "name": "stdout",
     "output_type": "stream",
     "text": [
      "INFO: jaxopt.ZoomLineSearch: Iter: 1 Minimum Decrease & Curvature Errors (stop. crit.): 27.000408172607422 Stepsize:1.0  Decrease Error:11.27175235748291  Curvature Error:27.000408172607422 \n",
      "INFO: jaxopt.ZoomLineSearch: Iter: 2 Minimum Decrease & Curvature Errors (stop. crit.): 0.0 Stepsize:0.39926546812057495  Decrease Error:0.0  Curvature Error:0.0 \n",
      "INFO: jaxopt.ZoomLineSearch: Iter: 1 Minimum Decrease & Curvature Errors (stop. crit.): 0.0 Stepsize:0.59889817237854  Decrease Error:0.0  Curvature Error:0.0 \n",
      "INFO: jaxopt.ZoomLineSearch: Iter: 1 Minimum Decrease & Curvature Errors (stop. crit.): 0.0 Stepsize:0.8983472585678101  Decrease Error:0.0  Curvature Error:0.0 \n",
      "INFO: jaxopt.ZoomLineSearch: Iter: 1 Minimum Decrease & Curvature Errors (stop. crit.): 0.0 Stepsize:1.0  Decrease Error:0.0  Curvature Error:0.0 \n"
     ]
    },
    {
     "data": {
      "text/plain": [
       "Array([0.9854608, 1.9888325], dtype=float32)"
      ]
     },
     "execution_count": 14,
     "metadata": {},
     "output_type": "execute_result"
    }
   ],
   "source": [
    "# BFGS\n",
    "solver_bfgs = jaxopt.BFGS(fun=partial(loss_fn, y=y, x=x))\n",
    "params_bfgs, state_bfgs = solver_bfgs.run(params_init)\n",
    "params_bfgs"
   ]
  },
  {
   "cell_type": "code",
   "execution_count": 15,
   "metadata": {},
   "outputs": [
    {
     "data": {
      "text/plain": [
       "Array([0.9854585, 1.9888299], dtype=float32)"
      ]
     },
     "execution_count": 15,
     "metadata": {},
     "output_type": "execute_result"
    }
   ],
   "source": [
    "# Levenberg-Marquardt\n",
    "def resid_fn(p, y, x):\n",
    "    y_hat = linear_model(p, x)\n",
    "    resid = y - y_hat\n",
    "    return resid\n",
    "\n",
    "\n",
    "solver_lm = jaxopt.LevenbergMarquardt(lambda p: resid_fn(p, y, x), maxiter=100)\n",
    "params_lm, state_lm = solver_lm.run(params_init)\n",
    "params_lm"
   ]
  },
  {
   "cell_type": "markdown",
   "metadata": {},
   "source": [
    "# Parallel execution with vmap"
   ]
  },
  {
   "cell_type": "markdown",
   "metadata": {},
   "source": [
    "Jax provides a powerful ``vmap`` operator to *vectorize* function execution"
   ]
  },
  {
   "cell_type": "code",
   "execution_count": 16,
   "metadata": {},
   "outputs": [
    {
     "data": {
      "text/plain": [
       "Array(True, dtype=bool)"
      ]
     },
     "execution_count": 16,
     "metadata": {},
     "output_type": "execute_result"
    }
   ],
   "source": [
    "# Let us build a model that acts on a single element.\n",
    "def linear_model(weight, input):\n",
    "    return weight @ input\n",
    "\n",
    "\n",
    "in_feat = 3\n",
    "out_feat = 10\n",
    "\n",
    "W = onp.random.randn(out_feat, in_feat)  # 10 outputs, 3 inputs\n",
    "x = onp.random.randn(in_feat)\n",
    "y = linear_model(W, x)\n",
    "\n",
    "# What if we have a vector of examples?\n",
    "batch_size = 32\n",
    "X = onp.random.randn(batch_size, in_feat)\n",
    "\n",
    "# In pytorch, we would end up re-writing the linear layer in a less straightforward fashion:\n",
    "Y = X @ W.T # :-(\n",
    "Y.shape\n",
    "\n",
    "# In jax, we would rather harness the power of vmap!\n",
    "Y_vmap = jax.vmap(linear_model, in_axes=(None, 0))(W, X) # :-)\n",
    "jnp.allclose(Y, Y_vmap, rtol=1e-4) # equivalent up to some numerical difference"
   ]
  },
  {
   "cell_type": "code",
   "execution_count": 17,
   "metadata": {},
   "outputs": [],
   "source": [
    "# Here (like above), we vectorize on the second argument only (the data!)\n",
    "# This makes sense when we apply the same model to different data batches\n",
    "batched_linear_model = jax.vmap(linear_model, in_axes=(None, 0))\n",
    "Y_vmap = batched_linear_model(W, X)"
   ]
  },
  {
   "cell_type": "code",
   "execution_count": 18,
   "metadata": {},
   "outputs": [
    {
     "data": {
      "text/plain": [
       "(32, 10)"
      ]
     },
     "execution_count": 18,
     "metadata": {},
     "output_type": "execute_result"
    }
   ],
   "source": [
    "# This is the converse: different models (an ensemble?) acting on the same data!\n",
    "W_many = onp.random.randn(batch_size, out_feat, in_feat)\n",
    "many_linear_models_same_data = jax.vmap(linear_model, in_axes=(0, None))\n",
    "Y_many = many_linear_models_same_data(W_many, x)\n",
    "Y_many.shape"
   ]
  },
  {
   "cell_type": "code",
   "execution_count": 19,
   "metadata": {},
   "outputs": [],
   "source": [
    "# By default, we vectorize on all arguments. We simulate several models over several datasets in parallel!\n",
    "many_linear_models = jax.vmap(linear_model)\n",
    "Y_many = many_linear_models(W_many, X)"
   ]
  },
  {
   "cell_type": "markdown",
   "metadata": {},
   "source": [
    "# Jax data structure: PyTrees "
   ]
  },
  {
   "cell_type": "markdown",
   "metadata": {},
   "source": [
    "In Jax, function arguments can be (nested) collection objects generically referred to as pytrees this simplifies definition of structured models such as neural networks from scratch\n",
    "\n",
    "Example: MLP with one hidden layer, parameters in a nested python dictionary"
   ]
  },
  {
   "cell_type": "code",
   "execution_count": 20,
   "metadata": {},
   "outputs": [],
   "source": [
    "# Let us implement a MLP from scratch!\n",
    "nn_sizes = [3, 16, 10]  # 3 inputs, 16 hidden layers, 10 outputs\n",
    "\n",
    "params_nn = {\n",
    "    \"layer0\": {\n",
    "        \"W\": onp.random.randn(nn_sizes[1], nn_sizes[0]),\n",
    "        \"b\": onp.random.randn(nn_sizes[1]),\n",
    "    },\n",
    "    \"layer1\": {\n",
    "        \"W\": onp.random.randn(nn_sizes[2], nn_sizes[1]),\n",
    "        \"b\": onp.random.randn(nn_sizes[2]),\n",
    "    },\n",
    "}\n",
    "\n",
    "def nn_model(p, input):\n",
    "    z = jax.nn.sigmoid(p[\"layer0\"][\"W\"] @ input + p[\"layer0\"][\"b\"])\n",
    "    out = p[\"layer1\"][\"W\"] @ z + p[\"layer1\"][\"b\"]\n",
    "    return out"
   ]
  },
  {
   "cell_type": "code",
   "execution_count": 21,
   "metadata": {},
   "outputs": [
    {
     "data": {
      "text/plain": [
       "(10,)"
      ]
     },
     "execution_count": 21,
     "metadata": {},
     "output_type": "execute_result"
    }
   ],
   "source": [
    "x = onp.random.randn(\n",
    "    nn_sizes[0],\n",
    ")\n",
    "y_nn = nn_model(params_nn, x)\n",
    "y_nn.shape"
   ]
  },
  {
   "cell_type": "code",
   "execution_count": 22,
   "metadata": {},
   "outputs": [
    {
     "data": {
      "text/plain": [
       "(32, 10)"
      ]
     },
     "execution_count": 22,
     "metadata": {},
     "output_type": "execute_result"
    }
   ],
   "source": [
    "# batched execution of the MLP with vmap\n",
    "X = onp.random.randn(batch_size, nn_sizes[0])\n",
    "Y = jax.vmap(nn_model, in_axes=(None, 0))(params_nn, X)\n",
    "Y.shape"
   ]
  },
  {
   "cell_type": "code",
   "execution_count": 23,
   "metadata": {},
   "outputs": [
    {
     "data": {
      "text/plain": [
       "Array(7.5693507, dtype=float32)"
      ]
     },
     "execution_count": 23,
     "metadata": {},
     "output_type": "execute_result"
    }
   ],
   "source": [
    "# batched loss computation\n",
    "def loss_fn(p, input, target):\n",
    "    predicted = jax.vmap(nn_model, in_axes=(None, 0))(p, input)\n",
    "    error = target - predicted\n",
    "    return jnp.mean(error**2)\n",
    "\n",
    "Y_true = onp.random.randn(batch_size, nn_sizes[-1]) # some fake data\n",
    "loss_fn(params_nn, X, Y_true)"
   ]
  },
  {
   "cell_type": "markdown",
   "metadata": {},
   "source": [
    "Jax has built-in tools for PyTree manipulation"
   ]
  },
  {
   "cell_type": "code",
   "execution_count": 24,
   "metadata": {},
   "outputs": [],
   "source": [
    "params_sq = jax.tree.map(lambda x : x**2, params_nn) # all parameters squared (unary op)"
   ]
  },
  {
   "cell_type": "code",
   "execution_count": 25,
   "metadata": {},
   "outputs": [],
   "source": [
    "params_sum = jax.tree.map(lambda x, y: x + y, params_nn, params_sq) # sum of two pytrees (binary op)"
   ]
  },
  {
   "cell_type": "code",
   "execution_count": 26,
   "metadata": {},
   "outputs": [],
   "source": [
    "#params_flat, unflatten_pars = jax.flatten_util.ravel_pytree(params_nn) # flat vector, unflatten function"
   ]
  },
  {
   "cell_type": "markdown",
   "metadata": {},
   "source": [
    "# Jax as a jit-compiled language"
   ]
  },
  {
   "cell_type": "markdown",
   "metadata": {},
   "source": [
    "Jax functions can be jit-compiled for much faster execution. Common use case: compile gradient computations!"
   ]
  },
  {
   "cell_type": "code",
   "execution_count": 27,
   "metadata": {},
   "outputs": [
    {
     "name": "stdout",
     "output_type": "stream",
     "text": [
      "2.36 ms ± 1.28 ms per loop (mean ± std. dev. of 7 runs, 100 loops each)\n"
     ]
    }
   ],
   "source": [
    "%%timeit -n 100\n",
    "loss, grad = jax.value_and_grad(loss_fn)(params_nn, X, Y)"
   ]
  },
  {
   "cell_type": "code",
   "execution_count": 28,
   "metadata": {},
   "outputs": [],
   "source": [
    "grad_fn_jit = jax.jit(jax.value_and_grad(loss_fn))"
   ]
  },
  {
   "cell_type": "code",
   "execution_count": 29,
   "metadata": {},
   "outputs": [
    {
     "name": "stdout",
     "output_type": "stream",
     "text": [
      "The slowest run took 4.00 times longer than the fastest. This could mean that an intermediate result is being cached.\n",
      "44.3 μs ± 28 μs per loop (mean ± std. dev. of 7 runs, 1,000 loops each)\n"
     ]
    }
   ],
   "source": [
    "%%timeit -n 1000\n",
    "loss, grad = grad_fn_jit(params_nn, X, Y)"
   ]
  },
  {
   "cell_type": "markdown",
   "metadata": {},
   "source": [
    "# Random numbers in Jax"
   ]
  },
  {
   "cell_type": "markdown",
   "metadata": {},
   "source": [
    "Native Jax random number generators always require a key to be passed explicitly"
   ]
  },
  {
   "cell_type": "code",
   "execution_count": 30,
   "metadata": {},
   "outputs": [],
   "source": [
    "key = jr.key(1234)"
   ]
  },
  {
   "cell_type": "code",
   "execution_count": 31,
   "metadata": {},
   "outputs": [
    {
     "data": {
      "text/plain": [
       "Array(1.1031016, dtype=float32)"
      ]
     },
     "execution_count": 31,
     "metadata": {},
     "output_type": "execute_result"
    }
   ],
   "source": [
    "jr.normal(key)"
   ]
  },
  {
   "cell_type": "code",
   "execution_count": 32,
   "metadata": {},
   "outputs": [
    {
     "data": {
      "text/plain": [
       "Array([1.1031016 , 0.86306226], dtype=float32)"
      ]
     },
     "execution_count": 32,
     "metadata": {},
     "output_type": "execute_result"
    }
   ],
   "source": [
    "jr.normal(key, shape=(2,)) # same key=same result!"
   ]
  },
  {
   "cell_type": "markdown",
   "metadata": {},
   "source": [
    "The Jax user is responsible of splitting the keys to generate different random numbers"
   ]
  },
  {
   "cell_type": "code",
   "execution_count": 33,
   "metadata": {},
   "outputs": [
    {
     "data": {
      "text/plain": [
       "(Array([-0.95239824,  0.34621808], dtype=float32),\n",
       " Array([ 1.4983746, -1.4730613], dtype=float32))"
      ]
     },
     "execution_count": 33,
     "metadata": {},
     "output_type": "execute_result"
    }
   ],
   "source": [
    "key, subkey = jr.split(key, 2)\n",
    "jr.normal(key, shape=(2,)), jr.normal(subkey, shape=(2,))"
   ]
  },
  {
   "cell_type": "markdown",
   "metadata": {},
   "source": [
    "This is the price to pay for having a *pure function* interface!"
   ]
  },
  {
   "cell_type": "code",
   "execution_count": 34,
   "metadata": {},
   "outputs": [
    {
     "data": {
      "text/plain": [
       "(array([ 0.12931419, -0.32595413]), array([ 0.88062984, -1.8378613 ]))"
      ]
     },
     "execution_count": 34,
     "metadata": {},
     "output_type": "execute_result"
    }
   ],
   "source": [
    "# same arguments, different results. That's not a pure function.\n",
    "onp.random.randn(2), onp.random.randn(2)"
   ]
  },
  {
   "cell_type": "code",
   "execution_count": 35,
   "metadata": {},
   "outputs": [
    {
     "data": {
      "text/plain": [
       "(Array([-0.95239824,  0.34621808], dtype=float32),\n",
       " Array([-0.95239824,  0.34621808], dtype=float32))"
      ]
     },
     "execution_count": 35,
     "metadata": {},
     "output_type": "execute_result"
    }
   ],
   "source": [
    "# same arguments, same results. This is a pure function!\n",
    "jr.normal(key, shape=(2,)), jr.normal(key, shape=(2,))"
   ]
  },
  {
   "cell_type": "markdown",
   "metadata": {},
   "source": [
    "# Higher-level interfaces: flax.linen"
   ]
  },
  {
   "cell_type": "markdown",
   "metadata": {},
   "source": [
    "There are many neural network libraries built upon jax.\n",
    "Let us quickly explore ``flax.linen``"
   ]
  },
  {
   "cell_type": "code",
   "execution_count": 36,
   "metadata": {},
   "outputs": [],
   "source": [
    "from flax import linen as nn"
   ]
  },
  {
   "cell_type": "code",
   "execution_count": 37,
   "metadata": {},
   "outputs": [
    {
     "data": {
      "text/plain": [
       "{'params': {'lin1': {'kernel': Array([[-0.0607008 , -0.56247073, -0.09260884,  0.25199047,  0.31163484,\n",
       "            0.28304234,  0.07770133, -0.0202711 , -0.31896597, -0.597906  ,\n",
       "            0.24707334,  0.14779164,  0.2850042 , -0.096579  , -0.04123046,\n",
       "            0.12406826],\n",
       "          [-0.1729729 , -0.09013411,  0.42306283,  0.08203582, -0.19639806,\n",
       "            0.45139998, -0.18776187, -0.07141428,  0.5587324 ,  0.6307393 ,\n",
       "            0.13413444, -0.21675588, -0.08671422,  0.13085195, -0.29311076,\n",
       "           -0.09388349],\n",
       "          [ 0.27336782,  0.23662308, -0.04149418, -0.35115185,  0.40033054,\n",
       "            0.16252317, -0.10901854,  0.2992458 ,  0.09969153,  0.6846909 ,\n",
       "           -0.10740535, -0.20036739, -0.21421935, -0.3843265 ,  0.24596885,\n",
       "            0.14136258],\n",
       "          [-0.3164381 ,  0.14398937, -0.41121867,  0.02435028,  0.24094355,\n",
       "           -0.25838664,  0.23570947, -0.20689772,  0.23262039, -0.08316714,\n",
       "            0.1711468 , -0.0081827 ,  0.27201268,  0.24199094,  0.34493598,\n",
       "            0.6177784 ],\n",
       "          [-0.17001875, -0.18589535, -0.12040257, -0.50173855, -0.08860575,\n",
       "           -0.15337504,  0.28110686, -0.01328261,  0.00460996, -0.59150344,\n",
       "           -0.12179959,  0.04814666, -0.18033971,  0.17486058,  0.613176  ,\n",
       "            0.11949141],\n",
       "          [-0.05538721,  0.7083047 ,  0.06848244, -0.06956845, -0.13916273,\n",
       "            0.2949026 ,  0.32405502, -0.13734524, -0.30946735, -0.1086614 ,\n",
       "            0.21925308, -0.31518796,  0.41032067, -0.08545402, -0.4749467 ,\n",
       "           -0.346846  ],\n",
       "          [ 0.30896384, -0.13999349,  0.04040435,  0.20668271, -0.20968072,\n",
       "            0.32427642,  0.10051685, -0.49970028, -0.15701875, -0.2648639 ,\n",
       "            0.3121081 ,  0.1998448 ,  0.0156483 ,  0.15594414, -0.12971748,\n",
       "            0.48551127],\n",
       "          [-0.00794578, -0.22174764,  0.01446347, -0.08018329, -0.40997258,\n",
       "           -0.20296328,  0.4433303 , -0.32947484,  0.57304525, -0.0167638 ,\n",
       "           -0.1608363 , -0.34827036, -0.09057181, -0.02977889, -0.6018126 ,\n",
       "            0.62442034],\n",
       "          [ 0.33198792, -0.13580988, -0.51910555, -0.23625837,  0.48767215,\n",
       "           -0.2429757 , -0.0924027 ,  0.51616186,  0.1521629 , -0.06226349,\n",
       "            0.24206811, -0.26349103,  0.32869083, -0.602162  ,  0.26790276,\n",
       "            0.6131641 ],\n",
       "          [-0.02368899,  0.14965789, -0.44536552,  0.23648532,  0.15043324,\n",
       "           -0.42718843, -0.68277514,  0.5213893 ,  0.39278787,  0.13136087,\n",
       "            0.20884372, -0.31957522, -0.13792314,  0.1254233 ,  0.18239997,\n",
       "            0.52785033]], dtype=float32),\n",
       "   'bias': Array([0., 0., 0., 0., 0., 0., 0., 0., 0., 0., 0., 0., 0., 0., 0., 0.],      dtype=float32)},\n",
       "  'lin2': {'kernel': Array([[-0.19273831,  0.19135821,  0.00999848,  0.34505686, -0.2248605 ],\n",
       "          [ 0.48532325,  0.27163908, -0.13466987,  0.06946521,  0.26202628],\n",
       "          [-0.40438166,  0.29174426, -0.33088917,  0.26163283, -0.00469249],\n",
       "          [-0.2044817 , -0.4559787 , -0.42834833,  0.19845062, -0.39288232],\n",
       "          [-0.433627  , -0.5208387 ,  0.43867823, -0.15834394,  0.1775047 ],\n",
       "          [-0.02361826,  0.19854023,  0.2483262 ,  0.40516254,  0.07833369],\n",
       "          [-0.18269418, -0.2536324 , -0.19440895,  0.31462914, -0.07321656],\n",
       "          [ 0.17204405, -0.19594443, -0.00676835,  0.27098688, -0.30115172],\n",
       "          [ 0.549135  ,  0.00894336,  0.21500058,  0.3322576 , -0.21235494],\n",
       "          [ 0.152775  ,  0.14904435,  0.28188172, -0.4909162 , -0.00657797],\n",
       "          [-0.06016167,  0.2632387 , -0.25517717,  0.12274744, -0.02197764],\n",
       "          [ 0.30931795,  0.27974337, -0.5175471 ,  0.09212144,  0.21703066],\n",
       "          [-0.0524624 , -0.48044127,  0.43923613, -0.01379099,  0.31916174],\n",
       "          [-0.3128183 , -0.1869607 , -0.18783064, -0.02342402, -0.4065429 ],\n",
       "          [ 0.04435058, -0.13433605,  0.28127298, -0.081331  , -0.00593166],\n",
       "          [-0.2636712 , -0.0666462 ,  0.3761221 ,  0.14311232, -0.24187149]],      dtype=float32),\n",
       "   'bias': Array([0., 0., 0., 0., 0.], dtype=float32)}}}"
      ]
     },
     "execution_count": 37,
     "metadata": {},
     "output_type": "execute_result"
    }
   ],
   "source": [
    "in_size = 10\n",
    "out_size = 5\n",
    "hidden = 16\n",
    "\n",
    "class CustomRNNCell(nn.Module):\n",
    "    hidden_size: int\n",
    "    out_size: int\n",
    "\n",
    "    def setup(self):\n",
    "        self.lin1 = nn.Dense(self.hidden_size)\n",
    "        self.lin2 = nn.Dense(self.out_size)\n",
    "\n",
    "    def __call__(self, input):\n",
    "        x = nn.relu(self.lin1(input))\n",
    "        x = self.lin2(x)\n",
    "        return x\n",
    "\n",
    "f_xu = CustomRNNCell(hidden_size=hidden, out_size=out_size)\n",
    "key, subkey = jr.split(key, 2)\n",
    "\n",
    "# params are not part of the module!\n",
    "params = f_xu.init(subkey, jnp.ones((in_size)))\n",
    "params"
   ]
  },
  {
   "cell_type": "code",
   "execution_count": 38,
   "metadata": {},
   "outputs": [
    {
     "data": {
      "text/plain": [
       "Array([-0.48732084, -0.5086825 ,  1.5485504 ,  1.1163081 , -0.729933  ],      dtype=float32)"
      ]
     },
     "execution_count": 38,
     "metadata": {},
     "output_type": "execute_result"
    }
   ],
   "source": [
    "# to use the model, we pass the parameters as first argument!\n",
    "f_xu.apply(params, jnp.ones(in_size))"
   ]
  },
  {
   "cell_type": "markdown",
   "metadata": {},
   "source": [
    "# Scan\n",
    "\n",
    "The jax.lax.scan transformation makes certain loop unrolling blazing fast. Roughly, it correspond to the plain Python code:\n",
    "\n",
    "\n",
    "```python\n",
    "def scan(f, init, xs, length=None):\n",
    "  if xs is None:\n",
    "    xs = [None] * length\n",
    "  carry = init\n",
    "  ys = []\n",
    "  for x in xs:\n",
    "    carry, y = f(carry, x)\n",
    "    ys.append(y)\n",
    "  return carry, np.stack(ys)\n",
    "```\n",
    "\n",
    "However, jax.lax.scan is highly optimized. My typical use case: speed up custom recurrent neural network/state-space models\n",
    "\n",
    "\n",
    "\\begin{align*}\n",
    " x_{k+1} &= N_f(x_k, u_k)\\\\\n",
    " y_k &= N_g(x_k),\n",
    "\\end{align*}\n",
    "where $N_f$, $N_g$ are some custom-made neural networks. Here is an example"
   ]
  },
  {
   "cell_type": "code",
   "execution_count": 39,
   "metadata": {},
   "outputs": [],
   "source": [
    "nx = 4\n",
    "ny = 3\n",
    "nu = 2\n",
    "seq_len = 100"
   ]
  },
  {
   "cell_type": "code",
   "execution_count": 40,
   "metadata": {},
   "outputs": [],
   "source": [
    "x0 = jnp.ones(nx) # initial state\n",
    "u0 = jnp.ones(nu) # initial input (just to simulate the first step)\n",
    "u = jnp.ones((seq_len, nu)) # input sequence"
   ]
  },
  {
   "cell_type": "code",
   "execution_count": 41,
   "metadata": {},
   "outputs": [],
   "source": [
    "class CustomRNNCell(nn.Module):\n",
    "    nx: int # state size\n",
    "    ny: int # output size \n",
    "    hidden_size: int\n",
    "\n",
    "    def setup(self):\n",
    "        # blocks of f(x, u)\n",
    "        self.fxu_lin1 = nn.Dense(self.hidden_size)\n",
    "        self.fxu_lin2 = nn.Dense(self.nx)\n",
    "        # blocks of g(x)\n",
    "        self.gx_lin1 = nn.Dense(self.hidden_size)\n",
    "        self.gx_lin2 = nn.Dense(self.ny)\n",
    "\n",
    "    def __call__(self, x, u):\n",
    "        \n",
    "        x_new = nn.relu(self.fxu_lin1(jnp.concatenate([x, u], axis=-1)))\n",
    "        x_new = self.fxu_lin2(x_new)\n",
    "\n",
    "        y = nn.relu(self.gx_lin1(x))\n",
    "        y = self.gx_lin2(y)\n",
    "        return x_new, y\n"
   ]
  },
  {
   "cell_type": "code",
   "execution_count": 42,
   "metadata": {},
   "outputs": [],
   "source": [
    "rnn_cell = CustomRNNCell(nx, ny, hidden_size=32)\n",
    "key, subkey = jr.split(key, 2)\n",
    "rnn_params = rnn_cell.init(subkey, x0, u0)"
   ]
  },
  {
   "cell_type": "code",
   "execution_count": 43,
   "metadata": {},
   "outputs": [
    {
     "data": {
      "text/plain": [
       "(Array([ 0.3038781 , -0.5354821 ,  0.901162  , -0.15403043], dtype=float32),\n",
       " Array([-0.7041999 , -0.3049767 ,  0.21753308], dtype=float32))"
      ]
     },
     "execution_count": 43,
     "metadata": {},
     "output_type": "execute_result"
    }
   ],
   "source": [
    "# simulate the first step\n",
    "x1, y1 = rnn_cell.apply(rnn_params, x0, u0)\n",
    "x1, y1"
   ]
  },
  {
   "cell_type": "code",
   "execution_count": 44,
   "metadata": {},
   "outputs": [
    {
     "data": {
      "text/plain": [
       "((4,), (100, 3))"
      ]
     },
     "execution_count": 44,
     "metadata": {},
     "output_type": "execute_result"
    }
   ],
   "source": [
    "# simulate the sequence\n",
    "fg_func = lambda x, u: rnn_cell.apply(rnn_params, x, u) \n",
    "xf, y = jax.lax.scan(fg_func, x0, u)\n",
    "xf.shape, y.shape"
   ]
  },
  {
   "cell_type": "code",
   "execution_count": 45,
   "metadata": {},
   "outputs": [],
   "source": [
    "# a minimal interface for the RNN\n",
    "def simulate_rnn(params, x0, u):\n",
    "    fg_func = lambda x, u: rnn_cell.apply(params, x, u)\n",
    "    xf, y = jax.lax.scan(fg_func, x0, u)\n",
    "    return xf, y\n",
    "\n",
    "xf, y = simulate_rnn(rnn_params, x0, u)"
   ]
  },
  {
   "cell_type": "markdown",
   "metadata": {},
   "source": [
    "All jax transformations are composable. You can *batchify* the `simulate_rnn` function above and make it super efficient with jax.jit!"
   ]
  },
  {
   "cell_type": "markdown",
   "metadata": {},
   "source": [
    "See the [system identifitation example](gallery/system_identification.ipynb) in the gallery!"
   ]
  }
 ],
 "metadata": {
  "kernelspec": {
   "display_name": "jax",
   "language": "python",
   "name": "python3"
  },
  "language_info": {
   "codemirror_mode": {
    "name": "ipython",
    "version": 3
   },
   "file_extension": ".py",
   "mimetype": "text/x-python",
   "name": "python",
   "nbconvert_exporter": "python",
   "pygments_lexer": "ipython3",
   "version": "3.12.7"
  }
 },
 "nbformat": 4,
 "nbformat_minor": 2
}
