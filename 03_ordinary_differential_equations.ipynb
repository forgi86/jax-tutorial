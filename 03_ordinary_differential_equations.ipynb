{
 "cells": [
  {
   "cell_type": "code",
   "execution_count": null,
   "id": "7aba24b0",
   "metadata": {},
   "outputs": [],
   "source": [
    "import jax.numpy as jnp\n",
    "import jax.random as jr\n",
    "import diffrax\n",
    "import matplotlib.pyplot as plt"
   ]
  },
  {
   "cell_type": "code",
   "execution_count": null,
   "id": "08ce0bbb",
   "metadata": {},
   "outputs": [],
   "source": [
    "seed = 1234\n",
    "key = jr.key(seed)"
   ]
  },
  {
   "cell_type": "markdown",
   "id": "aa24220c",
   "metadata": {},
   "source": [
    "We consider the Lotka-Volterra ordinary differential equation with state $x= [x_1\\, x_2]^\\top \\in \\mathbb{R}^{n_x}, n_x=2$:\n",
    "\n",
    "\\begin{align*}\n",
    "\\dot x_1  &= \\alpha x - \\beta x_1 x_2\\\\\n",
    "\\dot x_2  &= -\\gamma x_2 + \\delta x_1 x_2,\n",
    "\\end{align*}\n",
    "\n",
    "with coefficients $\\theta = [\\alpha\\, \\beta\\, \\gamma\\, \\delta] \\in \\mathbb{R}^{n_\\theta}, n_{\\theta} = 4$."
   ]
  },
  {
   "cell_type": "code",
   "execution_count": null,
   "id": "36f5d94a",
   "metadata": {},
   "outputs": [],
   "source": [
    "theta = jnp.array([0.1, 0.02, 0.4, 0.02])"
   ]
  },
  {
   "cell_type": "code",
   "execution_count": null,
   "id": "32ede8c9",
   "metadata": {},
   "outputs": [],
   "source": [
    "def vector_field(t, x, args):\n",
    "    prey, predator = x\n",
    "    α, β, γ, δ = args\n",
    "    d_prey = α * prey - β * prey * predator\n",
    "    d_predator = -γ * predator + δ * prey * predator\n",
    "    d_x = jnp.array([d_prey, d_predator])\n",
    "    return d_x"
   ]
  },
  {
   "cell_type": "markdown",
   "id": "b1302583",
   "metadata": {},
   "source": [
    "The ``diffrax`` library from Patrick Kidger comes in handy to simulate ODEs. It implements several common solvers, irregular time sampling, and it is fully differentiable and composable with other JAX transformations."
   ]
  },
  {
   "cell_type": "code",
   "execution_count": null,
   "id": "f3172fd1",
   "metadata": {},
   "outputs": [],
   "source": [
    "# data\n",
    "nx = 2  # number of states\n",
    "seq_len = 20  # number of samples, sampling time is irregular"
   ]
  },
  {
   "cell_type": "code",
   "execution_count": null,
   "id": "f27b8a6e",
   "metadata": {},
   "outputs": [],
   "source": [
    "key, subkey = jr.split(key)\n",
    "y0 = 8 * jr.uniform(subkey, (nx,)) + 6\n",
    "\n",
    "t0 = 0\n",
    "tf = 140\n",
    "key, subkey = jr.split(key)\n",
    "t_meas = jr.uniform(subkey, (seq_len,)) * (tf - t0) + t0 # irregular time sampling\n",
    "t_meas = jnp.sort(t_meas)\n",
    "t_meas = jnp.r_[0.0, t_meas] # add time 0 (nice for plots, not really needed)\n",
    "\n",
    "t_dense = jnp.linspace(t0, tf, 1_000) # regular time sampling\n",
    "dt0 = 1.0"
   ]
  },
  {
   "cell_type": "code",
   "execution_count": null,
   "id": "28e5a18e",
   "metadata": {},
   "outputs": [],
   "source": [
    "def simulate(params, ts, y0):\n",
    "    sol = diffrax.diffeqsolve(\n",
    "        diffrax.ODETerm(vector_field),\n",
    "        diffrax.Tsit5(), # Solver\n",
    "        ts[0],\n",
    "        ts[-1],\n",
    "        dt0,\n",
    "        y0,\n",
    "        saveat=diffrax.SaveAt(ts=ts),\n",
    "        args=params,\n",
    "    )\n",
    "    return sol.ys"
   ]
  },
  {
   "cell_type": "code",
   "execution_count": null,
   "id": "f6c97ecf",
   "metadata": {},
   "outputs": [],
   "source": [
    "y_sparse = simulate(theta, t_meas, y0)\n",
    "y_dense = simulate(theta, t_dense, y0)\n",
    "\n",
    "# just one sequence\n",
    "t_meas = t_meas\n",
    "y_sparse = y_sparse\n",
    "y0 = y0\n",
    "t_meas.shape, y0.shape, y_sparse.shape"
   ]
  },
  {
   "cell_type": "code",
   "execution_count": null,
   "id": "21458819",
   "metadata": {},
   "outputs": [],
   "source": [
    "# plot data\n",
    "fig, ax = plt.subplots(2, 1, figsize=(8, 4))\n",
    "plt.suptitle(\"Solution on a dense grid (black) & on a sparse grid(magenta)\")\n",
    "ax[0].plot(t_dense, y_dense[:, 0], \"k\")\n",
    "ax[0].plot(t_meas, y_sparse[:, 0], \"m*\")\n",
    "ax[0].grid()\n",
    "\n",
    "ax[1].plot(t_dense, y_dense[:, 1], \"k\")\n",
    "ax[1].plot(t_meas, y_sparse[:, 1], \"m*\")\n",
    "ax[1].grid()"
   ]
  },
  {
   "cell_type": "markdown",
   "id": "3ad9dfa6",
   "metadata": {},
   "source": [
    "See the probabilistic ode examples in the gallery for examples where we explore approximate Bayesian inference ODEs with [Laplace's method](gallery/probabilistic_odes_laplace.ipynb) and [Markov Chain Monte Carlo](gallery/probabilistic_odes_mcmc.ipynb)!"
   ]
  },
  {
   "cell_type": "markdown",
   "id": "c4e53af7",
   "metadata": {},
   "source": [
    "Note that we could use diffrax with a Neural-network vector field, and thus implement some fancy Neural ODEs!"
   ]
  }
 ],
 "metadata": {
  "kernelspec": {
   "display_name": "jax",
   "language": "python",
   "name": "python3"
  },
  "language_info": {
   "codemirror_mode": {
    "name": "ipython",
    "version": 3
   },
   "file_extension": ".py",
   "mimetype": "text/x-python",
   "name": "python",
   "nbconvert_exporter": "python",
   "pygments_lexer": "ipython3",
   "version": "3.12.7"
  }
 },
 "nbformat": 4,
 "nbformat_minor": 5
}
